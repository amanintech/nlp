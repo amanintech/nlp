{
 "cells": [
  {
   "cell_type": "code",
   "execution_count": 16,
   "metadata": {
    "pycharm": {
     "is_executing": false
    }
   },
   "outputs": [
    {
     "name": "stdout",
     "text": [
      "all files imported successfully\n"
     ],
     "output_type": "stream"
    }
   ],
   "source": [
    "import numpy as np\n",
    "from sklearn.datasets import fetch_20newsgroups\n",
    "from sklearn import decomposition\n",
    "from scipy import linalg\n",
    "import matplotlib.pyplot as plt\n",
    "\n",
    "print(\"all files imported successfully\")\n",
    "        "
   ]
  },
  {
   "cell_type": "code",
   "execution_count": 18,
   "metadata": {
    "pycharm": {
     "is_executing": false,
     "name": "#%% Downloading Data\n"
    }
   },
   "outputs": [
    {
     "name": "stdout",
     "text": [
      "(2034,)\n",
      "task completed\n"
     ],
     "output_type": "stream"
    }
   ],
   "source": [
    "    \n",
    "%matplotlib inline\n",
    "np.set_printoptions(suppress=True)\n",
    "categories = ['alt.atheism', 'talk.religion.misc', 'comp.graphics', 'sci.space']\n",
    "remove = ('headers', 'footers', 'quotes')\n",
    "newsgroups_train = fetch_20newsgroups(subset='train', categories=categories, remove=remove)\n",
    "newsgroups_test = fetch_20newsgroups(subset='test', categories=categories, remove=remove)\n",
    "print(newsgroups_train.filenames.shape)\n",
    "print(\"task completed\")\n",
    "\n"
   ]
  },
  {
   "cell_type": "code",
   "execution_count": 20,
   "metadata": {
    "pycharm": {
     "is_executing": false,
     "name": "#%% Data Set\n"
    }
   },
   "outputs": [
    {
     "name": "stdout",
     "text": [
      "Hi,\n",
      "\n",
      "I've noticed that if you only save a model (with all your mapping planes\n",
      "positioned carefully) to a .3DS file that when you reload it after restarting\n",
      "3DS, they are given a default position and orientation.  But if you save\n",
      "to a .PRJ file their positions/orientation are preserved.  Does anyone\n",
      "know why this information is not stored in the .3DS file?  Nothing is\n",
      "explicitly said in the manual about saving texture rules in the .PRJ file. \n",
      "I'd like to be able to read the texture rule information, does anyone have \n",
      "the format for the .PRJ file?\n",
      "\n",
      "Is the .CEL file format available from somewhere?\n",
      "\n",
      "Rych\n",
      "\n",
      "\n",
      "Seems to be, barring evidence to the contrary, that Koresh was simply\n",
      "another deranged fanatic who thought it neccessary to take a whole bunch of\n",
      "folks with him, children and all, to satisfy his delusional mania. Jim\n",
      "Jones, circa 1993.\n",
      "\n",
      "\n",
      "Nope - fruitcakes like Koresh have been demonstrating such evil corruption\n",
      "for centuries.\n",
      "\n",
      " >In article <1993Apr19.020359.26996@sq.sq.com>, msb@sq.sq.com (Mark Brader) \n",
      "\n",
      "MB>                                                             So the\n",
      "MB> 1970 figure seems unlikely to actually be anything but a perijove.\n",
      "\n",
      "JG>Sorry, _perijoves_...I'm not used to talking this language.\n",
      "\n",
      "Couldn't we just say periapsis or apoapsis?\n",
      "\n",
      " \n"
     ],
     "output_type": "stream"
    },
    {
     "data": {
      "text/plain": "array([1, 3, 2, 0, 2, 0, 2, 1, 2, 1], dtype=int64)"
     },
     "metadata": {},
     "output_type": "execute_result",
     "execution_count": 20
    }
   ],
   "source": [
    "print(\"\\n\".join(newsgroups_train.data[:3]))\n",
    "np.array(newsgroups_train.target_names)[newsgroups_train.target[:3]]\n",
    "newsgroups_train.target[:10]"
   ]
  },
  {
   "cell_type": "code",
   "execution_count": 22,
   "outputs": [
    {
     "data": {
      "text/plain": "['a',\n 'about',\n 'above',\n 'across',\n 'after',\n 'afterwards',\n 'again',\n 'against',\n 'all',\n 'almost',\n 'alone',\n 'along',\n 'already',\n 'also',\n 'although',\n 'always',\n 'am',\n 'among',\n 'amongst',\n 'amoungst']"
     },
     "metadata": {},
     "output_type": "execute_result",
     "execution_count": 22
    }
   ],
   "source": [
    "from sklearn.feature_extraction import stop_words\n",
    "\n",
    "sorted(list(stop_words.ENGLISH_STOP_WORDS))[:20]"
   ],
   "metadata": {
    "collapsed": false,
    "pycharm": {
     "name": "#%% STOP words\n",
     "is_executing": false
    }
   }
  },
  {
   "cell_type": "code",
   "execution_count": 23,
   "outputs": [
    {
     "name": "stderr",
     "text": [
      "[nltk_data] Downloading package wordnet to\n",
      "[nltk_data]     C:\\Users\\ACER\\AppData\\Roaming\\nltk_data...\n",
      "[nltk_data]   Package wordnet is already up-to-date!\n"
     ],
     "output_type": "stream"
    },
    {
     "data": {
      "text/plain": "True"
     },
     "metadata": {},
     "output_type": "execute_result",
     "execution_count": 23
    }
   ],
   "source": [
    "import nltk\n",
    "nltk.download('wordnet')"
   ],
   "metadata": {
    "collapsed": false,
    "pycharm": {
     "name": "#%% Stemming and Lemmatization  \n",
     "is_executing": false
    }
   }
  },
  {
   "cell_type": "code",
   "execution_count": 24,
   "outputs": [
    {
     "data": {
      "text/plain": "['fly', 'fly', 'flying']"
     },
     "metadata": {},
     "output_type": "execute_result",
     "execution_count": 24
    }
   ],
   "source": [
    "from nltk import stem\n",
    "\n",
    "wnl = stem.WordNetLemmatizer()\n",
    "porter = stem.porter.PorterStemmer()\n",
    "word_list = ['fly', 'flies', 'flying']\n",
    "[wnl.lemmatize(word) for word in word_list]\n"
   ],
   "metadata": {
    "collapsed": false,
    "pycharm": {
     "name": "#%% stemming and lemmatization example\n",
     "is_executing": false
    }
   }
  },
  {
   "cell_type": "code",
   "execution_count": 25,
   "outputs": [
    {
     "name": "stdout",
     "text": [
      "['fly', 'flies', 'flying']\n"
     ],
     "output_type": "stream"
    },
    {
     "data": {
      "text/plain": "[\"'d\",\n \"'ll\",\n \"'m\",\n \"'re\",\n \"'s\",\n \"'ve\",\n 'a',\n 'about',\n 'above',\n 'across',\n 'after',\n 'afterwards',\n 'again',\n 'against',\n 'all',\n 'almost',\n 'alone',\n 'along',\n 'already',\n 'also']"
     },
     "metadata": {},
     "output_type": "execute_result",
     "execution_count": 25
    }
   ],
   "source": [
    "import spacy\n",
    "\n",
    "from spacy.lemmatizer import Lemmatizer\n",
    "nlp = spacy.load(\"en_core_web_sm\")\n",
    "lemmatizer = nlp.Defaults.create_lemmatizer()\n",
    "print([lemmatizer.lookup(word) for word in word_list])\n",
    "\n",
    "sorted(list(nlp.Defaults.stop_words))[:20]\n"
   ],
   "metadata": {
    "collapsed": false,
    "pycharm": {
     "name": "#%% lemmatization with Spacy\n",
     "is_executing": false
    }
   }
  },
  {
   "cell_type": "code",
   "execution_count": 35,
   "outputs": [
    {
     "data": {
      "text/plain": "array(['countdown', 'counted', 'counter', 'counter_clockwise',\n       'counterargument', 'counterclockwise', 'countered',\n       'counterexamples', 'counterfactual', 'counterpart',\n       'counterproductive', 'counters', 'counting', 'countless',\n       'countries', 'country', 'countryside', 'counts', 'county', 'coup'],\n      dtype='<U80')"
     },
     "metadata": {},
     "output_type": "execute_result",
     "execution_count": 35
    }
   ],
   "source": [
    "from sklearn.feature_extraction.text import CountVectorizer, TfidfVectorizer\n",
    "import nltk\n",
    "vectorizer = CountVectorizer(stop_words='english') #, tokenizer=LemmaTokenizer())\n",
    "\n",
    "vectors = vectorizer.fit_transform(newsgroups_train.data).todense() # (documents, vocab)\n",
    "vectors.shape \n",
    "vocab = np.array(vectorizer.get_feature_names())\n",
    "vocab.shape#, vectors.nnz / vectors.shape[0], row_means.shape\n",
    "vocab[7020:7040]"
   ],
   "metadata": {
    "collapsed": false,
    "pycharm": {
     "name": "#%%  NLTK data processing\n",
     "is_executing": false
    }
   }
  },
  {
   "cell_type": "code",
   "execution_count": 61,
   "outputs": [
    {
     "name": "stdout",
     "text": [
      "Wall time: 21.1 s\n",
      "(2034, 2034) (2034,) (2034, 26576)\n"
     ],
     "output_type": "stream"
    },
    {
     "data": {
      "text/plain": "[<matplotlib.lines.Line2D at 0x146f8ae0518>]"
     },
     "metadata": {},
     "output_type": "execute_result",
     "execution_count": 61
    },
    {
     "data": {
      "text/plain": "<Figure size 432x288 with 1 Axes>",
      "image/png": "[encoded data removed]"
     },
     "metadata": {
      "needs_background": "light"
     },
     "output_type": "display_data"
    }
   ],
   "source": [
    "%time U, s, Vh = linalg.svd(vectors, full_matrices=False)\n",
    "print(U.shape, s.shape, Vh.shape)\n",
    "plt.plot(s)"
   ],
   "metadata": {
    "collapsed": false,
    "pycharm": {
     "name": "#%% SVD\n",
     "is_executing": false
    }
   }
  },
  {
   "cell_type": "code",
   "execution_count": 63,
   "outputs": [
    {
     "data": {
      "text/plain": "['ditto critus propagandist surname galacticentric kindergarten surreal imaginative',\n 'jpeg gif file color quality image jfif format',\n 'graphics edu pub mail 128 3d ray ftp',\n 'jesus god matthew people atheists atheism does graphics',\n 'image data processing analysis software available tools display',\n 'god atheists atheism religious believe religion argument true',\n 'space nasa lunar mars probe moon missions probes',\n 'image probe surface lunar mars probes moon orbit',\n 'argument fallacy conclusion example true ad argumentum premises',\n 'space larson image theory universe physical nasa material']"
     },
     "metadata": {},
     "output_type": "execute_result",
     "execution_count": 63
    }
   ],
   "source": [
    "num_top_words=8\n",
    "\n",
    "def show_topics(a):\n",
    "    top_words = lambda t: [vocab[i] for i in np.argsort(t)[:-num_top_words-1:-1]]\n",
    "    topic_words = ([top_words(t) for t in a])\n",
    "    return [' '.join(t) for t in topic_words]\n",
    "\n",
    "show_topics(Vh[:10])\n"
   ],
   "metadata": {
    "collapsed": false,
    "pycharm": {
     "name": "#%% getting most frequent words with the help of SVD\n",
     "is_executing": false
    }
   }
  },
  {
   "cell_type": "code",
   "execution_count": 72,
   "outputs": [
    {
     "name": "stdout",
     "text": [
      "2034 26576\n"
     ],
     "output_type": "stream"
    },
    {
     "data": {
      "text/plain": "NMF(alpha=0.0, beta_loss='frobenius', init=None, l1_ratio=0.0, max_iter=200,\n    n_components=5, random_state=1, shuffle=False, solver='cd', tol=0.0001,\n    verbose=0)"
     },
     "metadata": {},
     "output_type": "display_data"
    },
    {
     "data": {
      "text/plain": "['jpeg image gif file color images format quality',\n 'edu graphics pub mail 128 ray ftp send',\n 'space launch satellite nasa commercial satellites year market',\n 'jesus god people matthew atheists does atheism said',\n 'image data available software processing ftp edu analysis']"
     },
     "metadata": {},
     "output_type": "display_data"
    },
    {
     "data": {
      "text/plain": "[<matplotlib.lines.Line2D at 0x1472d5604a8>,\n <matplotlib.lines.Line2D at 0x1472d560cc0>,\n <matplotlib.lines.Line2D at 0x1472d560f60>,\n <matplotlib.lines.Line2D at 0x1472cd72240>,\n <matplotlib.lines.Line2D at 0x1472cdbcef0>]"
     },
     "metadata": {},
     "output_type": "execute_result",
     "execution_count": 72
    },
    {
     "data": {
      "text/plain": "<Figure size 432x288 with 1 Axes>",
      "image/png": "[encoded data removed]"
     },
     "metadata": {
      "needs_background": "light"
     },
     "output_type": "display_data"
    }
   ],
   "source": [
    "m,n=vectors.shape\n",
    "print(m,n)\n",
    "d=5  # num topics\n",
    "clf = decomposition.NMF(n_components=d, random_state=1)\n",
    "display(clf)\n",
    "W1 = clf.fit_transform(vectors)\n",
    "H1 = clf.components_\n",
    "                                                                                                                                                                                                                                                                                                                                                                                                                                                                                              \n",
    "display(show_topics(H1))\n",
    "plt.plot(W1)"
   ],
   "metadata": {
    "collapsed": false,
    "pycharm": {
     "name": "#%% Non-negative Matrix Factorization (NMF)\n",
     "is_executing": false
    }
   }
  },
  {
   "cell_type": "code",
   "execution_count": null,
   "outputs": [],
   "source": [
    "\n"
   ],
   "metadata": {
    "collapsed": false,
    "pycharm": {
     "name": "#%%\n"
    }
   }
  }
 ],
 "metadata": {
  "kernelspec": {
   "display_name": "PyCharm (twimintel)",
   "language": "python",
   "name": "pycharm-190f188"
  },
  "language_info": {
   "codemirror_mode": {
    "name": "ipython",
    "version": 3
   },
   "file_extension": ".py",
   "mimetype": "text/x-python",
   "name": "python",
   "nbconvert_exporter": "python",
   "pygments_lexer": "ipython3",
   "version": "3.7.3"
  },
  "pycharm": {
   "stem_cell": {
    "cell_type": "raw",
    "source": [],
    "metadata": {
     "collapsed": false
    }
   }
  }
 },
 "nbformat": 4,
 "nbformat_minor": 1
}